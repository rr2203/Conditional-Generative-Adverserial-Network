{
  "cells": [
    {
      "cell_type": "markdown",
      "metadata": {
        "id": "VzAVmJSHzfU-"
      },
      "source": [
        "# Goal: Explore Conditional GAN"
      ]
    },
    {
      "cell_type": "markdown",
      "metadata": {
        "id": "7eciPDnHzfVA"
      },
      "source": [
        "## Imports"
      ]
    },
    {
      "cell_type": "code",
      "execution_count": null,
      "metadata": {
        "id": "eVvchCm7zfVA"
      },
      "outputs": [],
      "source": [
        "import torch\n",
        "import torch.nn as nn\n",
        "import torch.nn.functional as F\n",
        "from torchvision import datasets\n",
        "from torchvision import transforms\n",
        "from torch.utils.data import DataLoader\n",
        "\n",
        "import numpy as np\n",
        "import matplotlib.pyplot as plt\n",
        "%matplotlib inline"
      ]
    },
    {
      "cell_type": "markdown",
      "metadata": {
        "id": "g4zOYqG1zfVC"
      },
      "source": [
        "## MNIST Data\n",
        "\n",
        "For this demo, we will be using the MNIST data set. We can apply GANs to other datasets but the training process takes much longer. Our goal will be to supply random noise and a class label (e.g. a digit between 0 and 9) to the generator and produce an image of that particular digit."
      ]
    },
    {
      "cell_type": "code",
      "execution_count": null,
      "metadata": {
        "id": "W9yY91PEzfVC"
      },
      "outputs": [],
      "source": [
        "transform = transforms.Compose([transforms.ToTensor(),\n",
        "                                transforms.Normalize(mean=[0.5], std=[0.5])])\n",
        "\n",
        "data = datasets.MNIST(root='../data/', train=True, transform=transform, download=True)\n",
        "batch_size = 64\n",
        "data_loader = DataLoader(dataset=data, batch_size=batch_size, shuffle=True, drop_last=True)"
      ]
    },
    {
      "cell_type": "markdown",
      "metadata": {
        "id": "FdtmNJNJzfVC"
      },
      "source": [
        "We drop the last batch in our training set. We do this so that each batch passed into our networks is always of size 64 (since the number of training samples isn't divisible by 64). Also take a careful look at our normalization factors ($\\mu, \\sigma=0.5$). By using these normalization factors, we constrain each pixel value in our image to within $[-1, 1]$:"
      ]
    },
    {
      "cell_type": "code",
      "execution_count": null,
      "metadata": {
        "id": "JN2ZkVg0zfVC",
        "outputId": "2e653fca-3503-41af-de3e-5f0302a9ab83"
      },
      "outputs": [
        {
          "name": "stdout",
          "output_type": "stream",
          "text": [
            "min pixel value: tensor(-1.)\n",
            "max pixel value: tensor(1.)\n",
            "avg pixel value: tensor(-0.7313)\n"
          ]
        }
      ],
      "source": [
        "images, _ = next(iter(data_loader))\n",
        "print(\"min pixel value:\", images.min())\n",
        "print(\"max pixel value:\", images.max())\n",
        "print(\"avg pixel value:\", images.mean())"
      ]
    },
    {
      "cell_type": "markdown",
      "metadata": {
        "id": "sqQ9ss8qzfVC"
      },
      "source": [
        "This normalization strategy will come in handy for our generator: the last-layer activation function will be `tanh` which is also constrained to be within $[-1,1]$."
      ]
    },
    {
      "cell_type": "markdown",
      "metadata": {
        "id": "LILMNVm2zfVC"
      },
      "source": [
        "## Building $G$ and $D$"
      ]
    },
    {
      "cell_type": "code",
      "execution_count": null,
      "metadata": {
        "id": "1QCinLu5zfVD"
      },
      "outputs": [],
      "source": [
        "class Generator(nn.Module):\n",
        "    def __init__(self, noise_size=100, num_classes=10, image_size=28*28):\n",
        "        super(Generator, self).__init__()\n",
        "        self.network = nn.Sequential(\n",
        "            nn.Linear(noise_size+num_classes, 128), # [noise input, one-hot label] concatenated \n",
        "            nn.LeakyReLU(0.2),\n",
        "            nn.Linear(128, 256),\n",
        "            nn.BatchNorm1d(256),\n",
        "            nn.LeakyReLU(0.2),\n",
        "            nn.Linear(256, 512),\n",
        "            nn.BatchNorm1d(512),\n",
        "            nn.LeakyReLU(0.2),\n",
        "            nn.Linear(512, 1024),\n",
        "            nn.BatchNorm1d(1024),\n",
        "            nn.LeakyReLU(0.2),\n",
        "            nn.Linear(1024, image_size), # flattened image\n",
        "            nn.Tanh() # min value: -1, max value: 1\n",
        "        )\n",
        "        \n",
        "    def forward(self, x, c):\n",
        "        x, c = x.view(x.size(0), -1), c.view(c.size(0), -1).float()\n",
        "        v = torch.cat((x, c), 1) # v: [noise input, one-hot label] concatenated vector\n",
        "        y_ = self.network(v)\n",
        "        y_ = y_.view(x.size(0), 1, 28, 28) # flattened image\n",
        "        return y_"
      ]
    },
    {
      "cell_type": "code",
      "execution_count": null,
      "metadata": {
        "id": "NMW4EfqFzfVD"
      },
      "outputs": [],
      "source": [
        "class Discriminator(nn.Module):\n",
        "    def __init__(self, image_size=28*28, num_classes=10, num_output=1):\n",
        "        super(Discriminator, self).__init__()\n",
        "        self.network = nn.Sequential(\n",
        "            nn.Linear(image_size+num_classes, 512),   # [flattened image, one-hot label] concatenated vector\n",
        "            nn.LeakyReLU(0.2),\n",
        "            nn.Linear(512, 256),\n",
        "            nn.LeakyReLU(0.2),\n",
        "            nn.Linear(256, num_output),\n",
        "            nn.Sigmoid(), #min value: 0, max value: 1 -> great for probabilities!\n",
        "        )\n",
        "    \n",
        "    def forward(self, x, c):        \n",
        "        x, c = x.view(x.size(0), -1), c.view(c.size(0), -1).float()\n",
        "        v = torch.cat((x, c), 1) # v: [flattened image, one-hot label] concatenated vector\n",
        "        y_ = self.network(v)\n",
        "        return y_"
      ]
    },
    {
      "cell_type": "markdown",
      "metadata": {
        "id": "7kmGj_V8zfVD"
      },
      "source": [
        "## Training Setup\n",
        "\n",
        "Now, we're ready to instantiate our models, hyperparameters, and optimizers. Since the task is so easy for MNIST, we will train for only 10 epochs. We will update the generator and discriminator in every step but often one can be trained more frequently than the other. We need to instantiate two optimizers: one for each newtork. "
      ]
    },
    {
      "cell_type": "code",
      "execution_count": null,
      "metadata": {
        "id": "8YeHoiREzfVD",
        "outputId": "1d991c01-beae-4d20-b165-ae4dd68d01a3"
      },
      "outputs": [
        {
          "name": "stdout",
          "output_type": "stream",
          "text": [
            "device: cuda\n"
          ]
        }
      ],
      "source": [
        "DEVICE = torch.device(\"cuda\" if torch.cuda.is_available() else \"cpu\")\n",
        "print(\"device:\", DEVICE)\n",
        "\n",
        "D = Discriminator().to(DEVICE)\n",
        "G = Generator().to(DEVICE)\n",
        "\n",
        "max_epoch = 10\n",
        "step = 0\n",
        "n_noise = 100 # size of noise vector\n",
        "\n",
        "criterion = nn.BCELoss() # binary-cross entropy loss\n",
        "D_opt = torch.optim.Adam(D.parameters(), lr=0.0002, betas=(0.5, 0.999))\n",
        "G_opt = torch.optim.Adam(G.parameters(), lr=0.0002, betas=(0.5, 0.999))\n",
        "\n",
        "# We will denote real images as having a label 1 and fake images as having a label of 0\n",
        "# This is why we needed to drop the last batch of the data loader\n",
        "D_labels = torch.ones([batch_size, 1]).to(DEVICE) # Discriminator label: real image\n",
        "D_fakes = torch.zeros([batch_size, 1]).to(DEVICE) # Discriminator Label: fake image"
      ]
    },
    {
      "cell_type": "markdown",
      "metadata": {
        "id": "JVL9pJxBzfVD"
      },
      "source": [
        "## Training\n",
        "Now, let's train both networks. Remember that we will have two loss terms for the discriminator and one loss term for the generator."
      ]
    },
    {
      "cell_type": "code",
      "execution_count": null,
      "metadata": {
        "id": "1e5vZlqszfVD",
        "outputId": "864e528b-e32b-4ea7-983b-c69e5b9abb32"
      },
      "outputs": [
        {
          "name": "stdout",
          "output_type": "stream",
          "text": [
            "Epoch: 0/10, Step: 0, D Loss: 1.383345365524292, G Loss: -0.6775472164154053\n",
            "Epoch: 0/10, Step: 500, D Loss: 1.3113811016082764, G Loss: -0.5134172439575195\n",
            "Epoch: 1/10, Step: 1000, D Loss: 1.415831446647644, G Loss: -0.26758670806884766\n",
            "Epoch: 1/10, Step: 1500, D Loss: 0.8949247002601624, G Loss: -0.5527048110961914\n",
            "Epoch: 2/10, Step: 2000, D Loss: 1.3046650886535645, G Loss: -0.5584967732429504\n",
            "Epoch: 2/10, Step: 2500, D Loss: 1.239891767501831, G Loss: -0.45827552676200867\n",
            "Epoch: 3/10, Step: 3000, D Loss: 1.4110296964645386, G Loss: -0.5067005157470703\n",
            "Epoch: 3/10, Step: 3500, D Loss: 1.1709760427474976, G Loss: -0.5282682180404663\n",
            "Epoch: 4/10, Step: 4000, D Loss: 1.213775396347046, G Loss: -0.6103003621101379\n",
            "Epoch: 4/10, Step: 4500, D Loss: 1.258767008781433, G Loss: -0.5418068766593933\n",
            "Epoch: 5/10, Step: 5000, D Loss: 1.3338922262191772, G Loss: -0.5702112913131714\n",
            "Epoch: 5/10, Step: 5500, D Loss: 1.3585987091064453, G Loss: -0.7409588098526001\n",
            "Epoch: 6/10, Step: 6000, D Loss: 1.264848232269287, G Loss: -0.5360286831855774\n",
            "Epoch: 6/10, Step: 6500, D Loss: 1.275842547416687, G Loss: -0.6303281188011169\n",
            "Epoch: 7/10, Step: 7000, D Loss: 1.3130686283111572, G Loss: -0.5940064191818237\n",
            "Epoch: 8/10, Step: 7500, D Loss: 1.4376938343048096, G Loss: -0.366084486246109\n",
            "Epoch: 8/10, Step: 8000, D Loss: 1.3685734272003174, G Loss: -0.5564680099487305\n",
            "Epoch: 9/10, Step: 8500, D Loss: 1.3512009382247925, G Loss: -0.4755713939666748\n",
            "Epoch: 9/10, Step: 9000, D Loss: 1.3180818557739258, G Loss: -0.5924389362335205\n"
          ]
        }
      ],
      "source": [
        "for epoch in range(max_epoch):\n",
        "    for idx, (images, labels) in enumerate(data_loader):\n",
        "        x = images.to(DEVICE)\n",
        "        y = labels.to(DEVICE)\n",
        "        y = F.one_hot(y, num_classes=10)\n",
        "        \n",
        "\n",
        "        # Discriminator - Real Images\n",
        "        x_outputs = D(x, y)                              # pass images and class labels to discriminator\n",
        "        D_x_loss = criterion(x_outputs, D_labels)        # Discriminator loss for real images\n",
        "        \n",
        "        # Discriminator - Fake Images\n",
        "        z = torch.randn(batch_size, n_noise).to(DEVICE)  # sample from standard dist.\n",
        "        z_ = G(z,y)                                      # pass noise and class label to generator\n",
        "        z_outputs = D(z_, y)                             # pass fake images and label to discriminator\n",
        "        D_z_loss = criterion(z_outputs, D_fakes)         # Discriminator loss for fake images\n",
        "        \n",
        "        D_loss = D_x_loss + D_z_loss                     # Total Discriminator loss\n",
        "        \n",
        "        # Optimize the Discriminator\n",
        "        D.zero_grad()\n",
        "        D_loss.backward()\n",
        "        D_opt.step()\n",
        "        \n",
        "        # Generator - Fake Images\n",
        "        z = torch.randn(batch_size, n_noise).to(DEVICE)  # sample from standard dist.\n",
        "        z_ = G(z,y)                                      # pass noise and class label to generator\n",
        "        z_outputs = D(z_, y)                             # pass fake images and label to discriminator\n",
        "        G_loss = -1 * criterion(z_outputs, D_fakes)      # Generator loss is negative disciminator fake-loss\n",
        "\n",
        "        # Optimize the Generator\n",
        "        G.zero_grad()\n",
        "        G_loss.backward()\n",
        "        G_opt.step()\n",
        "        \n",
        "        if step % 500 == 0:\n",
        "            print('Epoch: {}/{}, Step: {}, D Loss: {}, G Loss: {}'.format(epoch, max_epoch, step, D_loss.item(), G_loss.item()))\n",
        "        step += 1"
      ]
    },
    {
      "cell_type": "markdown",
      "metadata": {
        "id": "or3xZN7nzfVD"
      },
      "source": [
        "## Generate Samples (Conditioned on the class label!)\n",
        "Let's generate a few samples now! Don't forget to set the generator to `eval` mode. We have layers in our generator that work differently during training and inference time (which one?). Let's set the class label to 8 and generate a few samples."
      ]
    },
    {
      "cell_type": "code",
      "execution_count": null,
      "metadata": {
        "id": "kT-itkYOzfVE",
        "outputId": "9ca0a12a-9150-4c37-8b31-f2de2f596100"
      },
      "outputs": [
        {
          "data": {
            "text/plain": [
              "<matplotlib.image.AxesImage at 0x7f7cb95aa760>"
            ]
          },
          "execution_count": 36,
          "metadata": {},
          "output_type": "execute_result"
        },
        {
          "data": {
            "image/png": "[encoded data removed]",
            "text/plain": [
              "<Figure size 432x288 with 1 Axes>"
            ]
          },
          "metadata": {
            "needs_background": "light"
          },
          "output_type": "display_data"
        }
      ],
      "source": [
        "G.eval()\n",
        "\n",
        "z = torch.randn(1, n_noise).to(DEVICE)          # random noise vector 1x100\n",
        "\n",
        "label = 8\n",
        "label = torch.tensor([label])\n",
        "c = F.one_hot(label, num_classes=10).to(DEVICE) # one-hot encoding 1x10\n",
        "\n",
        "y_hat = G(z, c).view(1, 28, 28)\n",
        "plt.imshow(y_hat.squeeze().detach().cpu())"
      ]
    },
    {
      "cell_type": "code",
      "execution_count": null,
      "metadata": {
        "id": "Ml53kkrizfVE",
        "outputId": "99f83b0e-3946-4f65-9759-ad0c79c6686f"
      },
      "outputs": [
        {
          "data": {
            "text/plain": [
              "<matplotlib.image.AxesImage at 0x7f7cb99a4940>"
            ]
          },
          "execution_count": 37,
          "metadata": {},
          "output_type": "execute_result"
        },
        {
          "data": {
            "image/png": "[encoded data removed]",
            "text/plain": [
              "<Figure size 432x288 with 1 Axes>"
            ]
          },
          "metadata": {
            "needs_background": "light"
          },
          "output_type": "display_data"
        }
      ],
      "source": [
        "G.eval()\n",
        "\n",
        "z = torch.randn(1, n_noise).to(DEVICE)          # random noise vector 1x100\n",
        "\n",
        "label = 8\n",
        "label = torch.tensor([label])\n",
        "c = F.one_hot(label, num_classes=10).to(DEVICE) # one-hot encoding 1x10\n",
        "\n",
        "y_hat = G(z, c).view(1, 28, 28)\n",
        "plt.imshow(y_hat.squeeze().detach().cpu())"
      ]
    },
    {
      "cell_type": "code",
      "execution_count": null,
      "metadata": {
        "id": "SLmx_IXGzfVE",
        "outputId": "db73bd2f-0c11-4e1f-e652-663fd32cb035"
      },
      "outputs": [
        {
          "data": {
            "text/plain": [
              "<matplotlib.image.AxesImage at 0x7f7cb9cf69d0>"
            ]
          },
          "execution_count": 38,
          "metadata": {},
          "output_type": "execute_result"
        },
        {
          "data": {
            "image/png": "[encoded data removed]",
            "text/plain": [
              "<Figure size 432x288 with 1 Axes>"
            ]
          },
          "metadata": {
            "needs_background": "light"
          },
          "output_type": "display_data"
        }
      ],
      "source": [
        "G.eval()\n",
        "\n",
        "z = torch.randn(1, n_noise).to(DEVICE)          # random noise vector 1x100\n",
        "\n",
        "label = 8\n",
        "label = torch.tensor([label])\n",
        "c = F.one_hot(label, num_classes=10).to(DEVICE) # one-hot encoding 1x10\n",
        "\n",
        "y_hat = G(z, c).view(1, 28, 28)\n",
        "plt.imshow(y_hat.squeeze().detach().cpu())"
      ]
    },
    {
      "cell_type": "markdown",
      "metadata": {
        "id": "--qQKUy5zfVE"
      },
      "source": [
        "And that's it! In this demo, we explored conditional GANs and looked a bit closely at the loss function used in GANs. Since GANs, there have been newer generative models such as diffusion models. "
      ]
    }
  ],
  "metadata": {
    "kernelspec": {
      "display_name": "Python 3",
      "language": "python",
      "name": "python3"
    },
    "language_info": {
      "codemirror_mode": {
        "name": "ipython",
        "version": 3
      },
      "file_extension": ".py",
      "mimetype": "text/x-python",
      "name": "python",
      "nbconvert_exporter": "python",
      "pygments_lexer": "ipython3",
      "version": "3.8.3"
    },
    "vscode": {
      "interpreter": {
        "hash": "95ee71ea249aa2e9e4602de52516e559983ad773b5ebbcec62edf843d39d54f2"
      }
    },
    "colab": {
      "provenance": []
    }
  },
  "nbformat": 4,
  "nbformat_minor": 0
}